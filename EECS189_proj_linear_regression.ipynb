{
 "cells": [
  {
   "cell_type": "code",
   "execution_count": 50,
   "metadata": {},
   "outputs": [],
   "source": [
    "import numpy as np\n",
    "import matplotlib.pyplot as plt\n",
    "import pandas as pd\n",
    "import seaborn as sns\n",
    "from sklearn.model_selection import train_test_split\n",
    "import sklearn.linear_model as lm\n",
    "from sklearn.model_selection import GridSearchCV\n",
    "from sklearn.metrics import mean_squared_error\n",
    "from sklearn.linear_model import Lasso\n",
    "from sklearn.linear_model import LassoCV\n",
    "from sklearn.linear_model import RidgeCV\n",
    "from sklearn.linear_model import Ridge\n",
    "from sklearn.model_selection import train_test_split"
   ]
  },
  {
   "cell_type": "code",
   "execution_count": 51,
   "metadata": {},
   "outputs": [],
   "source": [
    "filename = '/Users/monicazhu/Box/CS189-Project-Shared/data/FinalDataset.csv'\n",
    "data = pd.read_csv(filename)"
   ]
  },
  {
   "cell_type": "code",
   "execution_count": 52,
   "metadata": {},
   "outputs": [],
   "source": [
    "stand_df = data.iloc[:,1:-3]\n",
    "y = data.iloc[:,-3]"
   ]
  },
  {
   "cell_type": "code",
   "execution_count": 53,
   "metadata": {},
   "outputs": [],
   "source": [
    "[X_train, X_test, y_train, y_test] = train_test_split(data, y, test_size=0.25, random_state=80)\n",
    "#[X_train, X_val, y_train, y_val] = train_test_split(X_train, y_train, test_size=0.25, random_state=80)"
   ]
  },
  {
   "cell_type": "code",
   "execution_count": 54,
   "metadata": {},
   "outputs": [
    {
     "data": {
      "text/html": [
       "<div>\n",
       "<style scoped>\n",
       "    .dataframe tbody tr th:only-of-type {\n",
       "        vertical-align: middle;\n",
       "    }\n",
       "\n",
       "    .dataframe tbody tr th {\n",
       "        vertical-align: top;\n",
       "    }\n",
       "\n",
       "    .dataframe thead th {\n",
       "        text-align: right;\n",
       "    }\n",
       "</style>\n",
       "<table border=\"1\" class=\"dataframe\">\n",
       "  <thead>\n",
       "    <tr style=\"text-align: right;\">\n",
       "      <th></th>\n",
       "      <th>ef_09</th>\n",
       "      <th>ef_10</th>\n",
       "      <th>ef_11</th>\n",
       "      <th>ef_12</th>\n",
       "      <th>ef_13</th>\n",
       "      <th>ef_14</th>\n",
       "      <th>ef_15</th>\n",
       "      <th>ef_16</th>\n",
       "      <th>ef_17</th>\n",
       "      <th>ef_18</th>\n",
       "      <th>...</th>\n",
       "      <th>ef_7404</th>\n",
       "      <th>ef_7405</th>\n",
       "      <th>ef_7406</th>\n",
       "      <th>ef_7407</th>\n",
       "      <th>ef_7408</th>\n",
       "      <th>ef_7409</th>\n",
       "      <th>lon_diff</th>\n",
       "      <th>lat_diff</th>\n",
       "      <th>temp_diff</th>\n",
       "      <th>co2</th>\n",
       "    </tr>\n",
       "  </thead>\n",
       "  <tbody>\n",
       "    <tr>\n",
       "      <td>28269</td>\n",
       "      <td>-0.143969</td>\n",
       "      <td>-0.167870</td>\n",
       "      <td>-0.012274</td>\n",
       "      <td>0.068831</td>\n",
       "      <td>0.075668</td>\n",
       "      <td>0.079616</td>\n",
       "      <td>0.083124</td>\n",
       "      <td>0.083532</td>\n",
       "      <td>0.091630</td>\n",
       "      <td>0.095447</td>\n",
       "      <td>...</td>\n",
       "      <td>-1.229586</td>\n",
       "      <td>-0.878095</td>\n",
       "      <td>-1.247691</td>\n",
       "      <td>-1.892010</td>\n",
       "      <td>-1.343470</td>\n",
       "      <td>-0.043320</td>\n",
       "      <td>-0.163478</td>\n",
       "      <td>1.267977</td>\n",
       "      <td>1.068234</td>\n",
       "      <td>425.896406</td>\n",
       "    </tr>\n",
       "    <tr>\n",
       "      <td>18427</td>\n",
       "      <td>-0.110674</td>\n",
       "      <td>-0.089653</td>\n",
       "      <td>0.083226</td>\n",
       "      <td>0.145308</td>\n",
       "      <td>0.149146</td>\n",
       "      <td>0.142355</td>\n",
       "      <td>0.139089</td>\n",
       "      <td>0.133783</td>\n",
       "      <td>0.135666</td>\n",
       "      <td>0.131136</td>\n",
       "      <td>...</td>\n",
       "      <td>0.370376</td>\n",
       "      <td>0.254396</td>\n",
       "      <td>0.176672</td>\n",
       "      <td>0.133381</td>\n",
       "      <td>-0.010414</td>\n",
       "      <td>-0.045702</td>\n",
       "      <td>0.301239</td>\n",
       "      <td>0.099100</td>\n",
       "      <td>0.172718</td>\n",
       "      <td>457.246365</td>\n",
       "    </tr>\n",
       "    <tr>\n",
       "      <td>13132</td>\n",
       "      <td>-0.144298</td>\n",
       "      <td>-0.168448</td>\n",
       "      <td>-0.012576</td>\n",
       "      <td>0.068793</td>\n",
       "      <td>0.075393</td>\n",
       "      <td>0.079349</td>\n",
       "      <td>0.082833</td>\n",
       "      <td>0.083214</td>\n",
       "      <td>0.091783</td>\n",
       "      <td>0.095972</td>\n",
       "      <td>...</td>\n",
       "      <td>0.098264</td>\n",
       "      <td>0.087914</td>\n",
       "      <td>0.080292</td>\n",
       "      <td>0.042284</td>\n",
       "      <td>-0.103300</td>\n",
       "      <td>-0.081004</td>\n",
       "      <td>-0.276518</td>\n",
       "      <td>0.943289</td>\n",
       "      <td>-1.407812</td>\n",
       "      <td>427.524907</td>\n",
       "    </tr>\n",
       "    <tr>\n",
       "      <td>6012</td>\n",
       "      <td>-0.140753</td>\n",
       "      <td>-0.166383</td>\n",
       "      <td>-0.018504</td>\n",
       "      <td>0.058818</td>\n",
       "      <td>0.063234</td>\n",
       "      <td>0.065127</td>\n",
       "      <td>0.067920</td>\n",
       "      <td>0.067624</td>\n",
       "      <td>0.073011</td>\n",
       "      <td>0.078695</td>\n",
       "      <td>...</td>\n",
       "      <td>0.095127</td>\n",
       "      <td>0.084858</td>\n",
       "      <td>0.077706</td>\n",
       "      <td>0.039579</td>\n",
       "      <td>-0.106563</td>\n",
       "      <td>-0.084036</td>\n",
       "      <td>1.519552</td>\n",
       "      <td>-1.032670</td>\n",
       "      <td>0.063311</td>\n",
       "      <td>409.853115</td>\n",
       "    </tr>\n",
       "    <tr>\n",
       "      <td>17419</td>\n",
       "      <td>-0.144298</td>\n",
       "      <td>-0.168448</td>\n",
       "      <td>-0.012576</td>\n",
       "      <td>0.068793</td>\n",
       "      <td>0.075393</td>\n",
       "      <td>0.079349</td>\n",
       "      <td>0.082833</td>\n",
       "      <td>0.083214</td>\n",
       "      <td>0.091783</td>\n",
       "      <td>0.095972</td>\n",
       "      <td>...</td>\n",
       "      <td>0.096173</td>\n",
       "      <td>0.085768</td>\n",
       "      <td>0.078294</td>\n",
       "      <td>0.039948</td>\n",
       "      <td>-0.106373</td>\n",
       "      <td>-0.083746</td>\n",
       "      <td>-0.201158</td>\n",
       "      <td>0.284636</td>\n",
       "      <td>-0.031071</td>\n",
       "      <td>410.444236</td>\n",
       "    </tr>\n",
       "    <tr>\n",
       "      <td>...</td>\n",
       "      <td>...</td>\n",
       "      <td>...</td>\n",
       "      <td>...</td>\n",
       "      <td>...</td>\n",
       "      <td>...</td>\n",
       "      <td>...</td>\n",
       "      <td>...</td>\n",
       "      <td>...</td>\n",
       "      <td>...</td>\n",
       "      <td>...</td>\n",
       "      <td>...</td>\n",
       "      <td>...</td>\n",
       "      <td>...</td>\n",
       "      <td>...</td>\n",
       "      <td>...</td>\n",
       "      <td>...</td>\n",
       "      <td>...</td>\n",
       "      <td>...</td>\n",
       "      <td>...</td>\n",
       "      <td>...</td>\n",
       "      <td>...</td>\n",
       "    </tr>\n",
       "    <tr>\n",
       "      <td>8714</td>\n",
       "      <td>-0.144237</td>\n",
       "      <td>-0.168229</td>\n",
       "      <td>-0.012195</td>\n",
       "      <td>0.069216</td>\n",
       "      <td>0.075908</td>\n",
       "      <td>0.079902</td>\n",
       "      <td>0.083455</td>\n",
       "      <td>0.083920</td>\n",
       "      <td>0.092574</td>\n",
       "      <td>0.096816</td>\n",
       "      <td>...</td>\n",
       "      <td>0.096796</td>\n",
       "      <td>0.086388</td>\n",
       "      <td>0.078843</td>\n",
       "      <td>0.040659</td>\n",
       "      <td>-0.105277</td>\n",
       "      <td>-0.082670</td>\n",
       "      <td>-0.075559</td>\n",
       "      <td>-0.466785</td>\n",
       "      <td>-0.575101</td>\n",
       "      <td>408.386116</td>\n",
       "    </tr>\n",
       "    <tr>\n",
       "      <td>2259</td>\n",
       "      <td>-0.144298</td>\n",
       "      <td>-0.168448</td>\n",
       "      <td>-0.012576</td>\n",
       "      <td>0.068793</td>\n",
       "      <td>0.075393</td>\n",
       "      <td>0.079349</td>\n",
       "      <td>0.082833</td>\n",
       "      <td>0.083214</td>\n",
       "      <td>0.091783</td>\n",
       "      <td>0.095972</td>\n",
       "      <td>...</td>\n",
       "      <td>0.096173</td>\n",
       "      <td>0.085768</td>\n",
       "      <td>0.078294</td>\n",
       "      <td>0.039948</td>\n",
       "      <td>-0.106373</td>\n",
       "      <td>-0.083746</td>\n",
       "      <td>-1.545071</td>\n",
       "      <td>-0.596661</td>\n",
       "      <td>-0.296394</td>\n",
       "      <td>413.327701</td>\n",
       "    </tr>\n",
       "    <tr>\n",
       "      <td>19366</td>\n",
       "      <td>-0.144298</td>\n",
       "      <td>-0.168448</td>\n",
       "      <td>-0.012576</td>\n",
       "      <td>0.068793</td>\n",
       "      <td>0.075393</td>\n",
       "      <td>0.079349</td>\n",
       "      <td>0.082833</td>\n",
       "      <td>0.083214</td>\n",
       "      <td>0.091783</td>\n",
       "      <td>0.095972</td>\n",
       "      <td>...</td>\n",
       "      <td>0.098703</td>\n",
       "      <td>0.088631</td>\n",
       "      <td>0.081251</td>\n",
       "      <td>0.043701</td>\n",
       "      <td>-0.101000</td>\n",
       "      <td>-0.078468</td>\n",
       "      <td>1.268354</td>\n",
       "      <td>-1.190376</td>\n",
       "      <td>-0.520276</td>\n",
       "      <td>511.715884</td>\n",
       "    </tr>\n",
       "    <tr>\n",
       "      <td>5308</td>\n",
       "      <td>-0.144298</td>\n",
       "      <td>-0.168448</td>\n",
       "      <td>-0.012576</td>\n",
       "      <td>0.068793</td>\n",
       "      <td>0.075393</td>\n",
       "      <td>0.079349</td>\n",
       "      <td>0.082833</td>\n",
       "      <td>0.083214</td>\n",
       "      <td>0.091783</td>\n",
       "      <td>0.095972</td>\n",
       "      <td>...</td>\n",
       "      <td>0.126916</td>\n",
       "      <td>0.117663</td>\n",
       "      <td>0.095116</td>\n",
       "      <td>0.047028</td>\n",
       "      <td>-0.082865</td>\n",
       "      <td>-0.044482</td>\n",
       "      <td>1.519552</td>\n",
       "      <td>-1.032670</td>\n",
       "      <td>-1.797612</td>\n",
       "      <td>458.376941</td>\n",
       "    </tr>\n",
       "    <tr>\n",
       "      <td>17583</td>\n",
       "      <td>-0.144298</td>\n",
       "      <td>-0.168448</td>\n",
       "      <td>-0.012576</td>\n",
       "      <td>0.068793</td>\n",
       "      <td>0.075393</td>\n",
       "      <td>0.079349</td>\n",
       "      <td>0.082833</td>\n",
       "      <td>0.083214</td>\n",
       "      <td>0.091783</td>\n",
       "      <td>0.095972</td>\n",
       "      <td>...</td>\n",
       "      <td>0.096173</td>\n",
       "      <td>0.085768</td>\n",
       "      <td>0.078294</td>\n",
       "      <td>0.039948</td>\n",
       "      <td>-0.106373</td>\n",
       "      <td>-0.083746</td>\n",
       "      <td>-0.201158</td>\n",
       "      <td>0.284636</td>\n",
       "      <td>0.217052</td>\n",
       "      <td>412.248200</td>\n",
       "    </tr>\n",
       "  </tbody>\n",
       "</table>\n",
       "<p>23726 rows × 5969 columns</p>\n",
       "</div>"
      ],
      "text/plain": [
       "          ef_09     ef_10     ef_11     ef_12     ef_13     ef_14     ef_15  \\\n",
       "28269 -0.143969 -0.167870 -0.012274  0.068831  0.075668  0.079616  0.083124   \n",
       "18427 -0.110674 -0.089653  0.083226  0.145308  0.149146  0.142355  0.139089   \n",
       "13132 -0.144298 -0.168448 -0.012576  0.068793  0.075393  0.079349  0.082833   \n",
       "6012  -0.140753 -0.166383 -0.018504  0.058818  0.063234  0.065127  0.067920   \n",
       "17419 -0.144298 -0.168448 -0.012576  0.068793  0.075393  0.079349  0.082833   \n",
       "...         ...       ...       ...       ...       ...       ...       ...   \n",
       "8714  -0.144237 -0.168229 -0.012195  0.069216  0.075908  0.079902  0.083455   \n",
       "2259  -0.144298 -0.168448 -0.012576  0.068793  0.075393  0.079349  0.082833   \n",
       "19366 -0.144298 -0.168448 -0.012576  0.068793  0.075393  0.079349  0.082833   \n",
       "5308  -0.144298 -0.168448 -0.012576  0.068793  0.075393  0.079349  0.082833   \n",
       "17583 -0.144298 -0.168448 -0.012576  0.068793  0.075393  0.079349  0.082833   \n",
       "\n",
       "          ef_16     ef_17     ef_18  ...   ef_7404   ef_7405   ef_7406  \\\n",
       "28269  0.083532  0.091630  0.095447  ... -1.229586 -0.878095 -1.247691   \n",
       "18427  0.133783  0.135666  0.131136  ...  0.370376  0.254396  0.176672   \n",
       "13132  0.083214  0.091783  0.095972  ...  0.098264  0.087914  0.080292   \n",
       "6012   0.067624  0.073011  0.078695  ...  0.095127  0.084858  0.077706   \n",
       "17419  0.083214  0.091783  0.095972  ...  0.096173  0.085768  0.078294   \n",
       "...         ...       ...       ...  ...       ...       ...       ...   \n",
       "8714   0.083920  0.092574  0.096816  ...  0.096796  0.086388  0.078843   \n",
       "2259   0.083214  0.091783  0.095972  ...  0.096173  0.085768  0.078294   \n",
       "19366  0.083214  0.091783  0.095972  ...  0.098703  0.088631  0.081251   \n",
       "5308   0.083214  0.091783  0.095972  ...  0.126916  0.117663  0.095116   \n",
       "17583  0.083214  0.091783  0.095972  ...  0.096173  0.085768  0.078294   \n",
       "\n",
       "        ef_7407   ef_7408   ef_7409  lon_diff  lat_diff  temp_diff         co2  \n",
       "28269 -1.892010 -1.343470 -0.043320 -0.163478  1.267977   1.068234  425.896406  \n",
       "18427  0.133381 -0.010414 -0.045702  0.301239  0.099100   0.172718  457.246365  \n",
       "13132  0.042284 -0.103300 -0.081004 -0.276518  0.943289  -1.407812  427.524907  \n",
       "6012   0.039579 -0.106563 -0.084036  1.519552 -1.032670   0.063311  409.853115  \n",
       "17419  0.039948 -0.106373 -0.083746 -0.201158  0.284636  -0.031071  410.444236  \n",
       "...         ...       ...       ...       ...       ...        ...         ...  \n",
       "8714   0.040659 -0.105277 -0.082670 -0.075559 -0.466785  -0.575101  408.386116  \n",
       "2259   0.039948 -0.106373 -0.083746 -1.545071 -0.596661  -0.296394  413.327701  \n",
       "19366  0.043701 -0.101000 -0.078468  1.268354 -1.190376  -0.520276  511.715884  \n",
       "5308   0.047028 -0.082865 -0.044482  1.519552 -1.032670  -1.797612  458.376941  \n",
       "17583  0.039948 -0.106373 -0.083746 -0.201158  0.284636   0.217052  412.248200  \n",
       "\n",
       "[23726 rows x 5969 columns]"
      ]
     },
     "execution_count": 54,
     "metadata": {},
     "output_type": "execute_result"
    }
   ],
   "source": [
    "X_train.iloc[:,1:-3]"
   ]
  },
  {
   "cell_type": "code",
   "execution_count": 55,
   "metadata": {},
   "outputs": [
    {
     "data": {
      "text/plain": [
       "RidgeCV(alphas=array([1.00000000e-01, 2.80721620e-01, 7.88046282e-01, 2.21221629e+00,\n",
       "       6.21016942e+00, 1.74332882e+01, 4.89390092e+01, 1.37382380e+02,\n",
       "       3.85662042e+02, 1.08263673e+03, 3.03919538e+03, 8.53167852e+03,\n",
       "       2.39502662e+04, 6.72335754e+04, 1.88739182e+05, 5.29831691e+05,\n",
       "       1.48735211e+06, 4.17531894e+06, 1.17210230e+07, 3.29034456e+07,\n",
       "       9.23670857e+07, 2.59294380e+08, 7.27895384e+08, 2.04335972e+09,\n",
       "       5.73615251e+09, 1.61026203e+10, 4.52035366e+10, 1.26896100e+11,\n",
       "       3.56224789e+11, 1.00000000e+12]),\n",
       "        cv=None, fit_intercept=True, gcv_mode=None, normalize=False,\n",
       "        scoring=None, store_cv_values=False)"
      ]
     },
     "execution_count": 55,
     "metadata": {},
     "output_type": "execute_result"
    }
   ],
   "source": [
    "# Approach 1: linear regression on whole datasets\n",
    "lam_values = 10**np.linspace(-1, 12, 30)\n",
    "#ridge_cv_model = RidgeCV(alphas = lam_values,scoring=custom_scorer)\n",
    "ridge_cv_model = RidgeCV(alphas = lam_values)\n",
    "ridge_cv_model.fit(X_train.iloc[:,1:-3], y_train)"
   ]
  },
  {
   "cell_type": "code",
   "execution_count": 56,
   "metadata": {},
   "outputs": [
    {
     "data": {
      "text/plain": [
       "array([1.00000000e-01, 2.80721620e-01, 7.88046282e-01, 2.21221629e+00,\n",
       "       6.21016942e+00, 1.74332882e+01, 4.89390092e+01, 1.37382380e+02,\n",
       "       3.85662042e+02, 1.08263673e+03, 3.03919538e+03, 8.53167852e+03,\n",
       "       2.39502662e+04, 6.72335754e+04, 1.88739182e+05, 5.29831691e+05,\n",
       "       1.48735211e+06, 4.17531894e+06, 1.17210230e+07, 3.29034456e+07,\n",
       "       9.23670857e+07, 2.59294380e+08, 7.27895384e+08, 2.04335972e+09,\n",
       "       5.73615251e+09, 1.61026203e+10, 4.52035366e+10, 1.26896100e+11,\n",
       "       3.56224789e+11, 1.00000000e+12])"
      ]
     },
     "execution_count": 56,
     "metadata": {},
     "output_type": "execute_result"
    }
   ],
   "source": [
    "lam_values"
   ]
  },
  {
   "cell_type": "code",
   "execution_count": 57,
   "metadata": {},
   "outputs": [
    {
     "name": "stdout",
     "output_type": "stream",
     "text": [
      "MSE: 216.77246992125214\n",
      "MSE: 181.0506933309287\n"
     ]
    }
   ],
   "source": [
    "y_test_pred = ridge_cv_model.predict(X_test.iloc[:,1:-3])\n",
    "print('MSE: {}'.format(mean_squared_error(y_test, y_test_pred)))\n",
    "\n",
    "y_train_pred = ridge_cv_model.predict(X_train.iloc[:,1:-3])\n",
    "print('MSE: {}'.format(mean_squared_error(y_train, y_train_pred)))"
   ]
  },
  {
   "cell_type": "code",
   "execution_count": 58,
   "metadata": {},
   "outputs": [],
   "source": [
    "#Create no bias prediction by setting temperature difference to zeros\n",
    "train_co2_nobias = X_train.loc[:,'co2'] - ridge_cv_model.coef_[-2]*X_train.loc[:,'temp_diff']\n",
    "\n",
    "test_co2_nobias = X_test.loc[:,'co2'] - ridge_cv_model.coef_[-2]*X_test.loc[:,'temp_diff']\n"
   ]
  },
  {
   "cell_type": "code",
   "execution_count": 59,
   "metadata": {},
   "outputs": [
    {
     "data": {
      "text/plain": [
       "-1.0331698950805939"
      ]
     },
     "execution_count": 59,
     "metadata": {},
     "output_type": "execute_result"
    }
   ],
   "source": [
    "ridge_cv_model.coef_[-2]"
   ]
  },
  {
   "cell_type": "code",
   "execution_count": 60,
   "metadata": {},
   "outputs": [
    {
     "data": {
      "text/plain": [
       "<Figure size 432x288 with 0 Axes>"
      ]
     },
     "metadata": {},
     "output_type": "display_data"
    },
    {
     "data": {
      "image/png": "[encoded data removed]",
      "text/plain": [
       "<Figure size 432x432 with 3 Axes>"
      ]
     },
     "metadata": {
      "needs_background": "light"
     },
     "output_type": "display_data"
    }
   ],
   "source": [
    "def add_one_to_one_line(plot):\n",
    "  x0, x1 = plot.ax_joint.get_xlim()\n",
    "  y0, y1 = plot.ax_joint.get_ylim()\n",
    "  lims = [max(x0, y0), min(x1, y1)]\n",
    "  plot.ax_joint.plot(lims, lims, ':k')\n",
    "plt.subplots_adjust(top=0.9)\n",
    "plt.suptitle('CO2', fontsize = 16)\n",
    "s = sns.jointplot(x=y_test, y=y_test_pred, kind=\"hex\")\n",
    "s.set_axis_labels(\"y_test (CO2, ppm)\", \"y_pred (CO2, ppm)\")\n",
    "add_one_to_one_line(s)"
   ]
  },
  {
   "cell_type": "code",
   "execution_count": 61,
   "metadata": {},
   "outputs": [
    {
     "name": "stderr",
     "output_type": "stream",
     "text": [
      "/opt/anaconda3/lib/python3.7/site-packages/pandas/core/indexing.py:376: SettingWithCopyWarning: \n",
      "A value is trying to be set on a copy of a slice from a DataFrame.\n",
      "Try using .loc[row_indexer,col_indexer] = value instead\n",
      "\n",
      "See the caveats in the documentation: http://pandas.pydata.org/pandas-docs/stable/user_guide/indexing.html#returning-a-view-versus-a-copy\n",
      "  self.obj[key] = _infer_fill_value(value)\n",
      "/opt/anaconda3/lib/python3.7/site-packages/pandas/core/indexing.py:494: SettingWithCopyWarning: \n",
      "A value is trying to be set on a copy of a slice from a DataFrame.\n",
      "Try using .loc[row_indexer,col_indexer] = value instead\n",
      "\n",
      "See the caveats in the documentation: http://pandas.pydata.org/pandas-docs/stable/user_guide/indexing.html#returning-a-view-versus-a-copy\n",
      "  self.obj[item] = s\n"
     ]
    }
   ],
   "source": [
    "# Node-by-node comparison\n",
    "X_train.loc[:, 'pred_co2'] = y_train_pred\n",
    "X_train.loc[:, 'co2_nobias'] = train_co2_nobias\n",
    "X_test.loc[:, 'pred_co2'] = y_test_pred\n",
    "X_test.loc[:, 'co2_nobias'] = test_co2_nobias"
   ]
  },
  {
   "cell_type": "code",
   "execution_count": 62,
   "metadata": {},
   "outputs": [
    {
     "data": {
      "text/plain": [
       "Text(0, 0.5, 'Frequency')"
      ]
     },
     "execution_count": 62,
     "metadata": {},
     "output_type": "execute_result"
    },
    {
     "data": {
      "image/png": "[encoded data removed]",
      "text/plain": [
       "<Figure size 432x288 with 1 Axes>"
      ]
     },
     "metadata": {
      "needs_background": "light"
     },
     "output_type": "display_data"
    }
   ],
   "source": [
    "\n",
    "sns.distplot((X_test['pred_co2'] - X_test['ref_co2'])/X_test['ref_co2']*100)\n",
    "#sns.distplot((X_train['pred_co2'] - X_train['ref_co2'])/X_train['ref_co2']*100)\n",
    "plt.xlabel('Fractioal difference between prediction and true CO2 (%)')\n",
    "plt.ylabel('Frequency')\n",
    "#sns.distplot((X_test['co2'] - X_test['ref_co2'])/X_test['ref_co2']*100)\n",
    "#sns.distplot((X_test['co2_nobias'] - X_test['ref_co2'])/X_test['ref_co2']*100)"
   ]
  },
  {
   "cell_type": "code",
   "execution_count": 63,
   "metadata": {},
   "outputs": [
    {
     "data": {
      "text/plain": [
       "Text(0.5, 0, 'Temperature dependent bias')"
      ]
     },
     "execution_count": 63,
     "metadata": {},
     "output_type": "execute_result"
    },
    {
     "data": {
      "image/png": "[encoded data removed]",
      "text/plain": [
       "<Figure size 432x288 with 1 Axes>"
      ]
     },
     "metadata": {
      "needs_background": "light"
     },
     "output_type": "display_data"
    }
   ],
   "source": [
    "sns.distplot(X_test['co2'] - X_test['co2_nobias'])\n",
    "plt.ylabel('Frequency')\n",
    "plt.xlabel('Temperature dependent bias')"
   ]
  },
  {
   "cell_type": "code",
   "execution_count": null,
   "metadata": {},
   "outputs": [],
   "source": [
    "def collect_train_test_data_by_node(dist_to_ref):\n",
    "    indx = X_train['dist_to_ref'] == dist_to_ref\n",
    "    X_train_node = X_train.loc[indx,:]\n",
    "    indx = X_test['dist_to_ref'] == dist_to_ref\n",
    "    X_test_node = X_test.loc[indx,:]\n",
    "    return X_train_node, X_test_node\n",
    "    "
   ]
  },
  {
   "cell_type": "code",
   "execution_count": 101,
   "metadata": {},
   "outputs": [
    {
     "data": {
      "text/plain": [
       "[0.0,\n",
       " 2.3375193353926567,\n",
       " 2.7499999276535254,\n",
       " 3.654582735450715,\n",
       " 3.6606076395554976,\n",
       " 3.9347285925301367,\n",
       " 4.1749683801935005,\n",
       " 4.305171116462334,\n",
       " 6.861702622395949,\n",
       " 8.453132898130445,\n",
       " 9.450828351138624,\n",
       " 10.285565475023596,\n",
       " 10.707385724248503,\n",
       " 11.107592056459955,\n",
       " 11.86998366871701,\n",
       " 13.439004316177964,\n",
       " 13.611579794921589,\n",
       " 14.68782154910184,\n",
       " 14.90872146414168,\n",
       " 16.31372859122283,\n",
       " 16.444961897979013,\n",
       " 17.171844981036383,\n",
       " 18.45420692829261,\n",
       " 21.351375767858194,\n",
       " 23.77661221946232,\n",
       " 24.04129428131672,\n",
       " 24.13557724806548,\n",
       " 25.10017928938376,\n",
       " 25.79443111871294]"
      ]
     },
     "execution_count": 101,
     "metadata": {},
     "output_type": "execute_result"
    }
   ],
   "source": [
    "dist_to_refs = sorted(X_train.dist_to_ref.unique())\n"
   ]
  },
  {
   "cell_type": "code",
   "execution_count": 3,
   "metadata": {},
   "outputs": [],
   "source": [
    "# Load data\n",
    "path = '/Users/monicazhu/Box/CS189-Project-Shared/data/'\n",
    "X_train  = np.load(path + 'X_train.npy', allow_pickle=True)\n",
    "X_test   = np.load(path + 'X_test.npy', allow_pickle=True)\n",
    "X_val    = np.load(path + 'X_val.npy', allow_pickle=True)\n",
    "y_train  = np.load(path + 'y_train.npy', allow_pickle=True)\n",
    "y_test   = np.load(path + 'y_test.npy', allow_pickle=True)\n",
    "y_val    = np.load(path + 'y_val.npy', allow_pickle=True)"
   ]
  },
  {
   "cell_type": "code",
   "execution_count": null,
   "metadata": {},
   "outputs": [],
   "source": []
  }
 ],
 "metadata": {
  "kernelspec": {
   "display_name": "Python 3",
   "language": "python",
   "name": "python3"
  },
  "language_info": {
   "codemirror_mode": {
    "name": "ipython",
    "version": 3
   },
   "file_extension": ".py",
   "mimetype": "text/x-python",
   "name": "python",
   "nbconvert_exporter": "python",
   "pygments_lexer": "ipython3",
   "version": "3.7.4"
  }
 },
 "nbformat": 4,
 "nbformat_minor": 4
}
