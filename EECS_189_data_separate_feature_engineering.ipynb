{
 "cells": [
  {
   "cell_type": "code",
   "execution_count": 1,
   "metadata": {},
   "outputs": [],
   "source": [
    "from sklearn.preprocessing import StandardScaler\n",
    "from sklearn.model_selection import train_test_split\n",
    "import pandas as pd\n",
    "import numpy as np"
   ]
  },
  {
   "cell_type": "code",
   "execution_count": 2,
   "metadata": {},
   "outputs": [],
   "source": [
    "# Import data #TODO: add data to github and make this a local import\n",
    "#path = '/mnt/c/Users/han/Downloads/merged_obs_sim_features_ref_plus_dist.csv'\n",
    "path = '/Users/monicazhu/Box/CS189-Project-Shared/obs_feature_merge/merged_obs_full_features_distilled.csv'\n",
    "raw = pd.read_csv(path)"
   ]
  },
  {
   "cell_type": "markdown",
   "metadata": {},
   "source": [
    "Feature engineering"
   ]
  },
  {
   "cell_type": "code",
   "execution_count": 5,
   "metadata": {},
   "outputs": [
    {
     "data": {
      "text/plain": [
       "Index(['Unnamed: 0.1', 'Unnamed: 0.1.1', 'Unnamed: 0.1.1.1',\n",
       "       'Unnamed: 0.1.1.1.1', 'timestamp', 'co2', 'temp', 'vaisala_temp', 'lon',\n",
       "       'lat', 'emis_files', 'fp_files', 'ref_co2', 'ref_lon', 'ref_lat',\n",
       "       'ref_temp'],\n",
       "      dtype='object')"
      ]
     },
     "execution_count": 5,
     "metadata": {},
     "output_type": "execute_result"
    }
   ],
   "source": [
    "raw.columns[1:17]"
   ]
  },
  {
   "cell_type": "code",
   "execution_count": 7,
   "metadata": {},
   "outputs": [],
   "source": [
    "### Feature engineering\n",
    "### 1. Separate out features of emissions weighted by footprints\n",
    "emis_fps = [column for column in raw.columns if column.startswith('ef_') ]\n",
    "### 2. Location features; instead of using longitude and latitude of each observation, we using the lon and lat\n",
    "### difference relavant to reference site\n",
    "raw['lon_diff'] = raw['lon'] - raw['ref_lon']\n",
    "raw['lat_diff'] = raw['lat'] - raw['ref_lat']\n",
    "locs_feas = ['lon_diff','lat_diff']\n",
    "### 3. Temperature feature to capture the bias; we using the temperature enhancement as the feature \n",
    "### (temperature - environment temperature)\n",
    "raw['temp_diff'] = raw['vaisala_temp'] - raw['ref_temp']\n",
    "temp_feas = ['temp_diff']\n",
    "### 4. Final features sets are the combination of those three types of features\n",
    "fea_sets = emis_fps + locs_feas + temp_feas\n",
    "fea_df = raw.loc[:, fea_sets]\n",
    "### 5. Add last feature: CO2 measurments from each observation;\n",
    "fea_df['co2'] =  raw[\"co2\"]\n",
    "### 6.We standerize all features except for CO2 measurements\n",
    "normalizer = StandardScaler()\n",
    "fits = normalizer.fit(fea_df)\n",
    "stand_df = pd.DataFrame(normalizer.transform(fea_df),columns =fea_df.columns)\n",
    "\n",
    "y = raw[\"ref_co2\"]"
   ]
  },
  {
   "cell_type": "code",
   "execution_count": 16,
   "metadata": {},
   "outputs": [],
   "source": [
    "# drop redundant columns\n",
    "column_names = stand_df.columns\n",
    "nonredundant_columns = column_names[(stand_df.loc[:, column_names] > 1e-5).any()]\n",
    "redundant_columns = [column for column in column_names if column not in nonredundant_columns]\n",
    "stand_df = stand_df.drop(redundant_columns, axis=1)"
   ]
  },
  {
   "cell_type": "code",
   "execution_count": 17,
   "metadata": {},
   "outputs": [
    {
     "name": "stdout",
     "output_type": "stream",
     "text": [
      "Feature number: 80\n",
      "Observation number: 31635\n"
     ]
    }
   ],
   "source": [
    "print('Feature number: {}'.format(stand_df.shape[1]))\n",
    "print('Observation number: {}'.format(stand_df.shape[0]))"
   ]
  },
  {
   "cell_type": "code",
   "execution_count": 19,
   "metadata": {},
   "outputs": [],
   "source": [
    "stand_df['ref_co2'] = raw[\"ref_co2\"]\n",
    "stand_df['timestamp'] = raw['timestamp']\n",
    "stand_df['dist_to_ref'] = raw['dist_to_ref']\n"
   ]
  },
  {
   "cell_type": "code",
   "execution_count": null,
   "metadata": {},
   "outputs": [],
   "source": [
    "stand_df.to_csv('/Users/monicazhu/Box/CS189-Project-Shared/data_v1/FinalDataset.csv')"
   ]
  },
  {
   "cell_type": "markdown",
   "metadata": {},
   "source": [
    "Train test data splitting\n",
    "\n"
   ]
  },
  {
   "cell_type": "code",
   "execution_count": 58,
   "metadata": {},
   "outputs": [],
   "source": [
    "[X_train, X_test, y_train, y_test] = train_test_split(stand_df, y, test_size=0.25, random_state=80)"
   ]
  },
  {
   "cell_type": "code",
   "execution_count": 59,
   "metadata": {},
   "outputs": [],
   "source": [
    "# We further split train datasets to train and validation\n",
    "[X_train, X_val, y_train, y_val] = train_test_split(X_train, y_train, test_size=0.25, random_state=80)"
   ]
  },
  {
   "cell_type": "code",
   "execution_count": 61,
   "metadata": {},
   "outputs": [
    {
     "name": "stdout",
     "output_type": "stream",
     "text": [
      "Train:  17794  Test:  7909  Val:  5932\n"
     ]
    }
   ],
   "source": [
    "# Split data\n",
    "print(\"Train: \",X_train.shape[0],\" Test: \",X_test.shape[0],\" Val: \",X_val.shape[0])"
   ]
  },
  {
   "cell_type": "code",
   "execution_count": 65,
   "metadata": {},
   "outputs": [],
   "source": [
    "# Save data to files:\n",
    "na = np.array(X_train.values).astype(np.float32)\n",
    "np.save('/Users/monicazhu/Box/CS189-Project-Shared/data_v1/X_train', na)\n",
    "\n",
    "na = np.array(X_test.values).astype(np.float32)\n",
    "np.save('/Users/monicazhu/Box/CS189-Project-Shared/data_v1/X_test', na)\n",
    "\n",
    "na = np.array(X_val.values).astype(np.float32)\n",
    "np.save('/Users/monicazhu/Box/CS189-Project-Shared/data_v1/X_val', na)\n",
    "\n",
    "na = np.array(y_train).astype(np.float32)\n",
    "np.save('/Users/monicazhu/Box/CS189-Project-Shared/data_v1/y_train', na)\n",
    "\n",
    "na = np.array(y_test).astype(np.float32)\n",
    "np.save('/Users/monicazhu/Box/CS189-Project-Shared/data_v1/y_test', na)\n",
    "\n",
    "na = np.array(y_val).astype(np.float32)\n",
    "np.save('/Users/monicazhu/Box/CS189-Project-Shared/data_v1/y_val', na)"
   ]
  },
  {
   "cell_type": "code",
   "execution_count": null,
   "metadata": {},
   "outputs": [],
   "source": []
  }
 ],
 "metadata": {
  "kernelspec": {
   "display_name": "Python 3",
   "language": "python",
   "name": "python3"
  },
  "language_info": {
   "codemirror_mode": {
    "name": "ipython",
    "version": 3
   },
   "file_extension": ".py",
   "mimetype": "text/x-python",
   "name": "python",
   "nbconvert_exporter": "python",
   "pygments_lexer": "ipython3",
   "version": "3.7.4"
  }
 },
 "nbformat": 4,
 "nbformat_minor": 4
}
