{
 "cells": [
  {
   "cell_type": "code",
   "execution_count": 1,
   "metadata": {},
   "outputs": [],
   "source": [
    "import torch\n",
    "import torch.nn as nn\n",
    "from torch.utils.data import DataLoader as dl\n",
    "import pandas as pd\n",
    "import numpy as np"
   ]
  },
  {
   "cell_type": "code",
   "execution_count": 2,
   "metadata": {},
   "outputs": [],
   "source": [
    "# Import data #TODO: add data to github and make this a local import\n",
    "path = '/mnt/c/Users/han/Downloads/merged_obs_sim_features_ref_plus_dist.csv'\n",
    "raw = pd.read_csv(path)"
   ]
  },
  {
   "cell_type": "code",
   "execution_count": 3,
   "metadata": {},
   "outputs": [
    {
     "name": "stdout",
     "output_type": "stream",
     "text": [
      "(31635, 7)\n"
     ]
    }
   ],
   "source": [
    "# Extract relevant columns\n",
    "x = raw.values[:,[3,4,5,6,7]]\n",
    "y = raw.values[:,10]\n",
    "feature_labels = raw.columns[[4,5,6,7]]\n",
    "\n",
    "# Add features\n",
    "temp_ind = raw.columns.get_loc('vaisala_temp')\n",
    "temp_col = raw.values[:,temp_ind].reshape(-1,1)\n",
    "x = np.hstack((x,temp_col**2))\n",
    "x = np.hstack((x, temp_col**3))\n",
    "print(x.shape)"
   ]
  },
  {
   "cell_type": "code",
   "execution_count": 21,
   "metadata": {},
   "outputs": [
    {
     "name": "stdout",
     "output_type": "stream",
     "text": [
      "(1, 7)\n",
      "1.0000000000000036\n",
      "1.0000000000000049\n",
      "1.0000000000000029\n",
      "1.000000000000366\n",
      "0.9999999999999389\n",
      "0.9999999999999989\n",
      "0.9999999999999962\n",
      "(31635, 7)\n"
     ]
    }
   ],
   "source": [
    "# 0-mean, same variance\n",
    "m = np.mean(x,0)\n",
    "m = m.reshape(1,-1)\n",
    "print(m.shape)\n",
    "x_mean =  x - m\n",
    "\n",
    "for i, feat in enumerate(x_mean.T):\n",
    "    s = np.std(feat)\n",
    "    x_mean[:,i] = feat/s\n",
    "    print(np.std(x_mean[:,i]))\n",
    "\n",
    "print(x_mean.shape)"
   ]
  },
  {
   "cell_type": "code",
   "execution_count": 22,
   "metadata": {},
   "outputs": [
    {
     "name": "stdout",
     "output_type": "stream",
     "text": [
      "Train:  25308  Test:  6327  Val:  6327\n",
      "25308 6327\n",
      "18981 6327\n"
     ]
    }
   ],
   "source": [
    "# Split data\n",
    "data = x_mean\n",
    "train_size = int(.8 *len(data))\n",
    "test_size = len(data) - train_size\n",
    "val_size = int(.25*train_size)\n",
    "print(\"Train: \",train_size,\" Test: \",test_size,\" Val: \",val_size)\n",
    "X_train, X_test = torch.utils.data.random_split(data, [train_size,test_size])\n",
    "print(len(X_train),len(X_test))\n",
    "X_train, X_val  = torch.utils.data.random_split(X_train, [train_size-val_size, val_size])\n",
    "print(len(X_train),len(X_val))"
   ]
  },
  {
   "cell_type": "code",
   "execution_count": 23,
   "metadata": {},
   "outputs": [],
   "source": [
    "y_train = y[X_train.indices]\n",
    "y_test  = y[X_test.indices]\n",
    "y_val   = y[X_val.indices]"
   ]
  },
  {
   "cell_type": "code",
   "execution_count": 24,
   "metadata": {},
   "outputs": [],
   "source": [
    "# Save data to files:\n",
    "na = np.array(X_train.dataset.dataset[X_train.indices]).astype(np.float32)\n",
    "np.save('/home/han/repos/BEACO2N-CO2-Correction/data/X_train', na)\n",
    "\n",
    "na = np.array(X_test.dataset[X_test.indices]).astype(np.float32)\n",
    "np.save('/home/han/repos/BEACO2N-CO2-Correction/data/X_test', na)\n",
    "\n",
    "na = np.array(X_val.dataset.dataset[X_val.indices]).astype(np.float32)\n",
    "np.save('/home/han/repos/BEACO2N-CO2-Correction/data/X_val', na)\n",
    "\n",
    "na = np.array(y_train).astype(np.float32)\n",
    "np.save('/home/han/repos/BEACO2N-CO2-Correction/data/y_train', na)\n",
    "\n",
    "na = np.array(y_test).astype(np.float32)\n",
    "np.save('/home/han/repos/BEACO2N-CO2-Correction/data/y_test', na)\n",
    "\n",
    "na = np.array(y_val).astype(np.float32)\n",
    "np.save('/home/han/repos/BEACO2N-CO2-Correction/data/y_val', na)"
   ]
  },
  {
   "cell_type": "code",
   "execution_count": 159,
   "metadata": {},
   "outputs": [
    {
     "data": {
      "text/plain": [
       "array([0.01789793479552376, 0.02399428198203704, 0.011346996285701223,\n",
       "       0.00017953742198479255, -0.0008217586024538616, 0.1748679984563908,\n",
       "       0.4105448534992399], dtype=object)"
      ]
     },
     "execution_count": 159,
     "metadata": {},
     "output_type": "execute_result"
    }
   ],
   "source": [
    "np.mean(X_train,0)"
   ]
  },
  {
   "cell_type": "code",
   "execution_count": 102,
   "metadata": {},
   "outputs": [
    {
     "data": {
      "text/plain": [
       "(18981,)"
      ]
     },
     "execution_count": 102,
     "metadata": {},
     "output_type": "execute_result"
    }
   ],
   "source": [
    "np.array(y_train).astype(np.float32).shape"
   ]
  },
  {
   "cell_type": "code",
   "execution_count": 20,
   "metadata": {},
   "outputs": [
    {
     "data": {
      "text/plain": [
       "6.936350461162214"
      ]
     },
     "execution_count": 20,
     "metadata": {},
     "output_type": "execute_result"
    }
   ],
   "source": [
    "np.std(x_mean[:,2])"
   ]
  },
  {
   "cell_type": "code",
   "execution_count": null,
   "metadata": {},
   "outputs": [],
   "source": []
  }
 ],
 "metadata": {
  "kernelspec": {
   "display_name": "Python 3",
   "language": "python",
   "name": "python3"
  },
  "language_info": {
   "codemirror_mode": {
    "name": "ipython",
    "version": 3
   },
   "file_extension": ".py",
   "mimetype": "text/x-python",
   "name": "python",
   "nbconvert_exporter": "python",
   "pygments_lexer": "ipython3",
   "version": "3.8.2"
  }
 },
 "nbformat": 4,
 "nbformat_minor": 4
}
