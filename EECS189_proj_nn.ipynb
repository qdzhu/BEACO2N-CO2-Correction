{
 "cells": [
  {
   "cell_type": "code",
   "execution_count": 1,
   "metadata": {},
   "outputs": [],
   "source": [
    "import torch\n",
    "import torch.nn as nn\n",
    "from torch.utils.data import DataLoader, Dataset\n",
    "import numpy as np"
   ]
  },
  {
   "cell_type": "code",
   "execution_count": 118,
   "metadata": {},
   "outputs": [],
   "source": [
    "# Load data\n",
    "path = '/home/han/repos/BEACO2N-CO2-Correction/data/'\n",
    "X_train  = torch.Tensor(np.load(path + 'X_train.npy', allow_pickle=True))\n",
    "X_test   = torch.Tensor(np.load(path + 'X_test.npy', allow_pickle=True))\n",
    "X_val    = torch.Tensor(np.load(path + 'X_val.npy', allow_pickle=True))\n",
    "y_train  = torch.Tensor(np.load(path + 'y_train.npy', allow_pickle=True))\n",
    "y_test   = torch.Tensor(np.load(path + 'y_test.npy', allow_pickle=True))\n",
    "y_val    = torch.Tensor(np.load(path + 'y_val.npy', allow_pickle=True))"
   ]
  },
  {
   "cell_type": "code",
   "execution_count": 119,
   "metadata": {},
   "outputs": [],
   "source": [
    "# Parameters\n",
    "n_iters      = 50\n",
    "nsize_in     = X_train.shape[1] \n",
    "nsize_out    = 1\n",
    "nsize_hidden = X_train.shape[1]\n",
    "n_layers     = 4\n",
    "activations = [nn.ReLU(),\n",
    "               nn.ReLU(),\n",
    "               nn.ReLU(), \n",
    "               None]\n",
    "layer_combiners = [nn.Linear(nsize_in, nsize_hidden),\n",
    "                   nn.Linear(nsize_in, nsize_hidden),\n",
    "                   nn.Linear(nsize_in, nsize_hidden),\n",
    "                   nn.Linear(nsize_in, nsize_out)]\n",
    "learning_rate = 0.05"
   ]
  },
  {
   "cell_type": "code",
   "execution_count": 120,
   "metadata": {},
   "outputs": [],
   "source": [
    "def create_model(n_layers, activation, combiners):\n",
    "    \n",
    "    if len(activation) != n_layers:\n",
    "        act = activation[0]*(n_layers - 1)\n",
    "        act.append(activation[-1])\n",
    "    else:\n",
    "        act = activations\n",
    "    if len(combiners) != n_layers:\n",
    "        combine = combiners[0]*(n_layers - 1)\n",
    "        combine.append(combiners[-1])\n",
    "    else:\n",
    "        combine = combiners\n",
    "        \n",
    "    for layer in range(n_layers):\n",
    "        if layer == 0:\n",
    "            model = nn.Sequential(combine[layer])\n",
    "            if act[layer]:\n",
    "                model.add_module(name=str(2*layer+1), module=act[layer])\n",
    "        else:\n",
    "            model.add_module(name=str(2*layer),module=combine[layer])\n",
    "            if act[layer]:\n",
    "                model.add_module(name=str(2*layer+1), module=act[layer])\n",
    "                \n",
    "    return model"
   ]
  },
  {
   "cell_type": "code",
   "execution_count": 121,
   "metadata": {},
   "outputs": [],
   "source": [
    "try:\n",
    "    del model\n",
    "except:\n",
    "    pass\n",
    "model = create_model(n_layers, activations, layer_combiners)\n",
    "criterion = nn.MSELoss()\n",
    "optimizer = torch.optim.SGD(model.parameters(),lr=learning_rate)"
   ]
  },
  {
   "cell_type": "code",
   "execution_count": 122,
   "metadata": {},
   "outputs": [
    {
     "name": "stdout",
     "output_type": "stream",
     "text": [
      "epoch:  0  loss:  188947.09375\n",
      "epoch:  1  loss:  inf\n",
      "epoch:  2  loss:  inf\n",
      "epoch:  3  loss:  nan\n",
      "epoch:  4  loss:  nan\n",
      "epoch:  5  loss:  nan\n",
      "epoch:  6  loss:  nan\n",
      "epoch:  7  loss:  nan\n",
      "epoch:  8  loss:  nan\n",
      "epoch:  9  loss:  nan\n",
      "epoch:  10  loss:  nan\n",
      "epoch:  11  loss:  nan\n",
      "epoch:  12  loss:  nan\n",
      "epoch:  13  loss:  nan\n",
      "epoch:  14  loss:  nan\n",
      "epoch:  15  loss:  nan\n",
      "epoch:  16  loss:  nan\n",
      "epoch:  17  loss:  nan\n",
      "epoch:  18  loss:  nan\n",
      "epoch:  19  loss:  nan\n",
      "epoch:  20  loss:  nan\n",
      "epoch:  21  loss:  nan\n",
      "epoch:  22  loss:  nan\n",
      "epoch:  23  loss:  nan\n",
      "epoch:  24  loss:  nan\n",
      "epoch:  25  loss:  nan\n",
      "epoch:  26  loss:  nan\n",
      "epoch:  27  loss:  nan\n",
      "epoch:  28  loss:  nan\n",
      "epoch:  29  loss:  nan\n",
      "epoch:  30  loss:  nan\n",
      "epoch:  31  loss:  nan\n",
      "epoch:  32  loss:  nan\n",
      "epoch:  33  loss:  nan\n",
      "epoch:  34  loss:  nan\n",
      "epoch:  35  loss:  nan\n",
      "epoch:  36  loss:  nan\n",
      "epoch:  37  loss:  nan\n",
      "epoch:  38  loss:  nan\n",
      "epoch:  39  loss:  nan\n",
      "epoch:  40  loss:  nan\n",
      "epoch:  41  loss:  nan\n",
      "epoch:  42  loss:  nan\n",
      "epoch:  43  loss:  nan\n",
      "epoch:  44  loss:  nan\n",
      "epoch:  45  loss:  nan\n",
      "epoch:  46  loss:  nan\n",
      "epoch:  47  loss:  nan\n",
      "epoch:  48  loss:  nan\n",
      "epoch:  49  loss:  nan\n"
     ]
    }
   ],
   "source": [
    "for epoch in range(n_iters):\n",
    "   # Forward propagation\n",
    "    y_pred = model(X_train)\n",
    "    \n",
    "    #Compute and print loss\n",
    "    loss  = criterion(y_pred, y_train)\n",
    "    print('epoch: ',epoch, ' loss: ', loss.item())\n",
    "    \n",
    "    #Zero the gradients (so that gradients don't accumulate from epoch to epoch)\n",
    "    optimizer.zero_grad()\n",
    "    \n",
    "    #perform a backward pass (backpropagation)\n",
    "    loss.backward()\n",
    "    \n",
    "    # Update the parameters\n",
    "    optimizer.step()"
   ]
  },
  {
   "cell_type": "code",
   "execution_count": 86,
   "metadata": {
    "scrolled": true
   },
   "outputs": [
    {
     "name": "stdout",
     "output_type": "stream",
     "text": [
      "False\n",
      "Loss:  tensor(443.4062, grad_fn=<MseLossBackward>)\n"
     ]
    },
    {
     "name": "stderr",
     "output_type": "stream",
     "text": [
      "/home/han/.local/lib/python3.8/site-packages/torch/nn/modules/loss.py:445: UserWarning: Using a target size (torch.Size([6327])) that is different to the input size (torch.Size([18981, 1])). This will likely lead to incorrect results due to broadcasting. Please ensure they have the same size.\n",
      "  return F.mse_loss(input, target, reduction=self.reduction)\n"
     ]
    }
   ],
   "source": [
    "# Lets Evaluate\n",
    "model.eval()\n",
    "print(model.training ) #Just to be sure\n",
    "\n",
    "ypred = model(X_test)\n",
    "loss  = criterion(y_pred, y_test)\n",
    "print(\"Loss: \", loss)"
   ]
  },
  {
   "cell_type": "code",
   "execution_count": 89,
   "metadata": {},
   "outputs": [
    {
     "name": "stdout",
     "output_type": "stream",
     "text": [
      "tensor([410.6907, 441.9533, 413.5955, 415.1597, 414.4968, 413.9651, 419.0463,\n",
      "        410.7672, 407.9546])\n",
      "tensor([[423.4161],\n",
      "        [423.4161],\n",
      "        [423.4161],\n",
      "        [423.4161],\n",
      "        [423.4161],\n",
      "        [423.4161],\n",
      "        [423.4161],\n",
      "        [423.4161],\n",
      "        [423.4161]], grad_fn=<SliceBackward>)\n",
      "tensor(131980.1406, grad_fn=<NormBackward0>)\n"
     ]
    }
   ],
   "source": [
    "ypred = model(X_test)\n",
    "err = torch.norm(ypred-y_test, p=2)\n",
    "print(y_test[1:10])\n",
    "print(ypred[1:10])\n",
    "print(err)"
   ]
  },
  {
   "cell_type": "code",
   "execution_count": 90,
   "metadata": {},
   "outputs": [
    {
     "data": {
      "text/plain": [
       "tensor([433.2132, 410.1967, 465.3893, 432.4657, 417.1220, 416.7152, 413.6294,\n",
       "        413.1808, 420.4663])"
      ]
     },
     "execution_count": 90,
     "metadata": {},
     "output_type": "execute_result"
    }
   ],
   "source": [
    "y_train[1:10]"
   ]
  },
  {
   "cell_type": "code",
   "execution_count": 117,
   "metadata": {},
   "outputs": [
    {
     "data": {
      "text/plain": [
       "tensor([-1.7644e-01, -5.6377e-02, -7.0168e-02,  6.6849e-03,  3.0164e-04,\n",
       "        -5.8091e+00, -3.0789e+02])"
      ]
     },
     "execution_count": 117,
     "metadata": {},
     "output_type": "execute_result"
    }
   ],
   "source": [
    "torch.mean(X_train,0)"
   ]
  },
  {
   "cell_type": "code",
   "execution_count": null,
   "metadata": {},
   "outputs": [],
   "source": []
  }
 ],
 "metadata": {
  "kernelspec": {
   "display_name": "Python 3",
   "language": "python",
   "name": "python3"
  },
  "language_info": {
   "codemirror_mode": {
    "name": "ipython",
    "version": 3
   },
   "file_extension": ".py",
   "mimetype": "text/x-python",
   "name": "python",
   "nbconvert_exporter": "python",
   "pygments_lexer": "ipython3",
   "version": "3.8.2"
  }
 },
 "nbformat": 4,
 "nbformat_minor": 4
}
