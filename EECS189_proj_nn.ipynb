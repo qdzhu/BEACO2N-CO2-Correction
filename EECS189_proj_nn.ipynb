{
 "cells": [
  {
   "cell_type": "code",
   "execution_count": 2,
   "metadata": {},
   "outputs": [],
   "source": [
    "import torch\n",
    "import torch.nn as nn\n",
    "from torch.utils.data import DataLoader, Dataset\n",
    "import numpy as np"
   ]
  },
  {
   "cell_type": "code",
   "execution_count": 3,
   "metadata": {},
   "outputs": [],
   "source": [
    "# Load data\n",
    "path = '/home/han/repos/BEACO2N-CO2-Correction/data/'\n",
    "X_train  = torch.Tensor(np.load(path + 'X_train.npy', allow_pickle=True))\n",
    "X_test   = torch.Tensor(np.load(path + 'X_test.npy', allow_pickle=True))\n",
    "X_val    = torch.Tensor(np.load(path + 'X_val.npy', allow_pickle=True))\n",
    "y_train  = torch.Tensor(np.load(path + 'y_train.npy', allow_pickle=True))\n",
    "y_test   = torch.Tensor(np.load(path + 'y_test.npy', allow_pickle=True))\n",
    "y_val    = torch.Tensor(np.load(path + 't_val.npy', allow_pickle=True))"
   ]
  },
  {
   "cell_type": "code",
   "execution_count": 17,
   "metadata": {},
   "outputs": [],
   "source": [
    "# Parameters\n",
    "n_iters      = 50\n",
    "nsize_in     = X_train.shape[1] \n",
    "nsize_out    = 1\n",
    "nsize_hidden1 = int(X_train.shape[1]/4)\n",
    "nsize_hidden2 = int(nsize_hidden1/4)\n",
    "nsize_hidden3 = int(nsize_hidden2/4)\n",
    "n_layers     = 4\n",
    "activations = [nn.Sigmoid(),#nn.ReLU(),\n",
    "               nn.Sigmoid(),#nn.ReLU(),\n",
    "               nn.Sigmoid(),#nn.ReLU(), \n",
    "               None]\n",
    "layer_combiners = [nn.Linear(nsize_in, nsize_hidden1),\n",
    "                   nn.Linear(nsize_hidden1, nsize_hidden2),\n",
    "                   nn.Linear(nsize_hidden2, nsize_hidden3),\n",
    "                   nn.Linear(nsize_hidden3, nsize_out)]\n",
    "learning_rate = 0.1"
   ]
  },
  {
   "cell_type": "code",
   "execution_count": 18,
   "metadata": {},
   "outputs": [],
   "source": [
    "def create_model(n_layers, activation, combiners):\n",
    "    \n",
    "    if len(activation) != n_layers:\n",
    "        act = activation[0]*(n_layers - 1)\n",
    "        act.append(activation[-1])\n",
    "    else:\n",
    "        act = activations\n",
    "    if len(combiners) != n_layers:\n",
    "        combine = combiners[0]*(n_layers - 1)\n",
    "        combine.append(combiners[-1])\n",
    "    else:\n",
    "        combine = combiners\n",
    "        \n",
    "    for layer in range(n_layers):\n",
    "        if layer == 0:\n",
    "            model = nn.Sequential(combine[layer])\n",
    "            if act[layer]:\n",
    "                model.add_module(name=str(2*layer+1), module=act[layer])\n",
    "        else:\n",
    "            model.add_module(name=str(2*layer),module=combine[layer])\n",
    "            if act[layer]:\n",
    "                model.add_module(name=str(2*layer+1), module=act[layer])\n",
    "                \n",
    "    return model"
   ]
  },
  {
   "cell_type": "code",
   "execution_count": 22,
   "metadata": {},
   "outputs": [],
   "source": [
    "try:\n",
    "    del model\n",
    "except:\n",
    "    pass\n",
    "model = create_model(n_layers, activations, layer_combiners)\n",
    "criterion = nn.MSELoss()\n",
    "optimizer = torch.optim.SGD(model.parameters(),lr=learning_rate)"
   ]
  },
  {
   "cell_type": "code",
   "execution_count": 32,
   "metadata": {},
   "outputs": [],
   "source": [
    "def run(  n_iters, model=None, loss_fn=None, optimizer=None, lr=0.1,restart=False, pr=True):\n",
    "    losses = torch.empty(n_iters)\n",
    "    if restart:\n",
    "       \n",
    "        try:\n",
    "            del model\n",
    "        except:\n",
    "            pass\n",
    "        model = create_model(n_layers, activations, layer_combiners)\n",
    "        loss_fn = nn.MSELoss()\n",
    "        optimizer = torch.optim.SGD(model.parameters(),lr=lr)\n",
    "    for epoch in range(n_iters):\n",
    "       # Forward propagation\n",
    "        y_pred = model(X_train)\n",
    "\n",
    "        #Compute and print loss\n",
    "        loss  = loss_fn(y_pred, y_train)\n",
    "        losses[epoch] = loss.item()\n",
    "        if pr:\n",
    "            print('epoch: ',epoch, ' loss: ', loss.item())\n",
    "        if torch.isnan(loss):\n",
    "            break\n",
    "\n",
    "        #Zero the gradients (so that gradients don't accumulate from epoch to epoch)\n",
    "        optimizer.zero_grad()\n",
    "\n",
    "        #perform a backward pass (backpropagation)\n",
    "        loss.backward()\n",
    "\n",
    "        # Update the parameters\n",
    "        optimizer.step()\n",
    "    return losses"
   ]
  },
  {
   "cell_type": "code",
   "execution_count": 34,
   "metadata": {},
   "outputs": [
    {
     "name": "stdout",
     "output_type": "stream",
     "text": [
      "epoch:  0  loss:  inf\n",
      "epoch:  1  loss:  inf\n",
      "epoch:  2  loss:  inf\n",
      "epoch:  3  loss:  inf\n",
      "epoch:  4  loss:  inf\n",
      "epoch:  5  loss:  inf\n",
      "epoch:  6  loss:  inf\n",
      "epoch:  7  loss:  inf\n",
      "epoch:  8  loss:  inf\n",
      "epoch:  9  loss:  nan\n"
     ]
    }
   ],
   "source": [
    "losses3 = run(10, model=model, loss_fn=criterion, optimizer=optimizer)"
   ]
  },
  {
   "cell_type": "code",
   "execution_count": 86,
   "metadata": {
    "scrolled": true
   },
   "outputs": [
    {
     "name": "stdout",
     "output_type": "stream",
     "text": [
      "False\n",
      "Loss:  tensor(443.4062, grad_fn=<MseLossBackward>)\n"
     ]
    },
    {
     "name": "stderr",
     "output_type": "stream",
     "text": [
      "/home/han/.local/lib/python3.8/site-packages/torch/nn/modules/loss.py:445: UserWarning: Using a target size (torch.Size([6327])) that is different to the input size (torch.Size([18981, 1])). This will likely lead to incorrect results due to broadcasting. Please ensure they have the same size.\n",
      "  return F.mse_loss(input, target, reduction=self.reduction)\n"
     ]
    }
   ],
   "source": [
    "# Lets Evaluate\n",
    "model.eval()\n",
    "print(model.training ) #Just to be sure\n",
    "\n",
    "ypred = model(X_test)\n",
    "loss  = criterion(y_pred, y_test)\n",
    "print(\"Loss: \", loss)"
   ]
  },
  {
   "cell_type": "code",
   "execution_count": 89,
   "metadata": {},
   "outputs": [
    {
     "name": "stdout",
     "output_type": "stream",
     "text": [
      "tensor([410.6907, 441.9533, 413.5955, 415.1597, 414.4968, 413.9651, 419.0463,\n",
      "        410.7672, 407.9546])\n",
      "tensor([[423.4161],\n",
      "        [423.4161],\n",
      "        [423.4161],\n",
      "        [423.4161],\n",
      "        [423.4161],\n",
      "        [423.4161],\n",
      "        [423.4161],\n",
      "        [423.4161],\n",
      "        [423.4161]], grad_fn=<SliceBackward>)\n",
      "tensor(131980.1406, grad_fn=<NormBackward0>)\n"
     ]
    }
   ],
   "source": [
    "ypred = model(X_test)\n",
    "err = torch.norm(ypred-y_test, p=2)\n",
    "print(y_test[1:10])\n",
    "print(ypred[1:10])\n",
    "print(err)"
   ]
  },
  {
   "cell_type": "code",
   "execution_count": 90,
   "metadata": {},
   "outputs": [
    {
     "data": {
      "text/plain": [
       "tensor([433.2132, 410.1967, 465.3893, 432.4657, 417.1220, 416.7152, 413.6294,\n",
       "        413.1808, 420.4663])"
      ]
     },
     "execution_count": 90,
     "metadata": {},
     "output_type": "execute_result"
    }
   ],
   "source": [
    "y_train[1:10]"
   ]
  },
  {
   "cell_type": "code",
   "execution_count": 13,
   "metadata": {},
   "outputs": [
    {
     "data": {
      "text/plain": [
       "tensor([0.0000e+00, 1.0899e+27, 7.7052e+31, 7.2148e+22, 2.5226e-18, 6.4825e-10,\n",
       "        1.0072e-11, 1.2353e-08, 6.7512e-07, 4.1654e-11])"
      ]
     },
     "execution_count": 13,
     "metadata": {},
     "output_type": "execute_result"
    }
   ],
   "source": [
    "a = torch.empty(10)\n",
    "a"
   ]
  },
  {
   "cell_type": "code",
   "execution_count": 15,
   "metadata": {},
   "outputs": [
    {
     "data": {
      "text/plain": [
       "tensor([0.0000e+00, 1.0899e+27, 3.0000e+00, 7.2148e+22, 2.5226e-18, 6.4825e-10,\n",
       "        1.0072e-11, 1.2353e-08, 6.7512e-07, 4.1654e-11])"
      ]
     },
     "execution_count": 15,
     "metadata": {},
     "output_type": "execute_result"
    }
   ],
   "source": [
    "a[2] = 3\n",
    "a"
   ]
  },
  {
   "cell_type": "code",
   "execution_count": null,
   "metadata": {},
   "outputs": [],
   "source": []
  }
 ],
 "metadata": {
  "kernelspec": {
   "display_name": "Python 3",
   "language": "python",
   "name": "python3"
  },
  "language_info": {
   "codemirror_mode": {
    "name": "ipython",
    "version": 3
   },
   "file_extension": ".py",
   "mimetype": "text/x-python",
   "name": "python",
   "nbconvert_exporter": "python",
   "pygments_lexer": "ipython3",
   "version": "3.8.2"
  }
 },
 "nbformat": 4,
 "nbformat_minor": 4
}
